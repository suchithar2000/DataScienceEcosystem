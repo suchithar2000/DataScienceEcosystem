{
  "metadata": {
    "kernelspec": {
      "name": "python",
      "display_name": "Python (Pyodide)",
      "language": "python"
    },
    "language_info": {
      "codemirror_mode": {
        "name": "python",
        "version": 3
      },
      "file_extension": ".py",
      "mimetype": "text/x-python",
      "name": "python",
      "nbconvert_exporter": "python",
      "pygments_lexer": "ipython3",
      "version": "3.8"
    }
  },
  "nbformat_minor": 4,
  "nbformat": 4,
  "cells": [
    {
      "cell_type": "code",
      "source": "from IPython.display import display, Markdown\ntitle = \"Data Science Tools and Ecosystem \"\ndisplay(Markdown(f\"# {title}\"))",
      "metadata": {
        "trusted": true
      },
      "outputs": [
        {
          "output_type": "display_data",
          "data": {
            "text/plain": "<IPython.core.display.Markdown object>",
            "text/markdown": "# Data Science Tools and Ecosystem "
          },
          "metadata": {}
        }
      ],
      "execution_count": 11
    },
    {
      "cell_type": "code",
      "source": "from IPython.display import display, Markdown\nintroduction = \"In this notebook, Data Science Tools and Ecosystem are summarized.\"\ndisplay(Markdown(introduction))",
      "metadata": {
        "trusted": true
      },
      "outputs": [
        {
          "output_type": "display_data",
          "data": {
            "text/plain": "<IPython.core.display.Markdown object>",
            "text/markdown": "In this notebook, Data Science Tools and Ecosystem are summarized."
          },
          "metadata": {}
        }
      ],
      "execution_count": 12
    },
    {
      "cell_type": "code",
      "source": "from IPython.display import display, Markdown\ndata_science_languages = [\n    \"Python\",\n    \"R\",\n    \"SQL\",\n    \"Java\",\n    \"Julia\",\n    \"Scala\",\n    \"MATLAB\",\n    \"JavaScript\"\n]\nlanguages_markdown = \"Data Science Languages\\n\\nSome of the popular languages that Data Scientists use are:\\n\\n\" + \"\\n\".join(f\"- {lang}\" for lang in data_science_languages)\ndisplay(Markdown(languages_markdown))",
      "metadata": {
        "trusted": true
      },
      "outputs": [
        {
          "output_type": "display_data",
          "data": {
            "text/plain": "<IPython.core.display.Markdown object>",
            "text/markdown": "Data Science Languages\n\nSome of the popular languages that Data Scientists use are:\n\n- Python\n- R\n- SQL\n- Java\n- Julia\n- Scala\n- MATLAB\n- JavaScript"
          },
          "metadata": {}
        }
      ],
      "execution_count": 14
    },
    {
      "cell_type": "code",
      "source": "from IPython.display import display, Markdown\ndata_science_libraries = [\n    \"Pandas\",\n    \"NumPy\",\n    \"Matplotlib\",\n    \"Seaborn\",\n    \"Scikit-learn\",\n    \"TensorFlow\",\n    \"Keras\",\n    \"PyTorch\",\n    \"Statsmodels\",\n    \"SciPy\"\n]\nlibraries_markdown = \"#Data Science Libraries\\n\\nSome of the commonly used libraries used by Data Scientists include:\\n\\n\" + \"\\n\".join(f\"- {lib}\" for lib in data_science_libraries)\ndisplay(Markdown(libraries_markdown))",
      "metadata": {
        "trusted": true
      },
      "outputs": [
        {
          "output_type": "display_data",
          "data": {
            "text/plain": "<IPython.core.display.Markdown object>",
            "text/markdown": "#Data Science Libraries\n\nSome of the commonly used libraries used by Data Scientists include:\n\n- Pandas\n- NumPy\n- Matplotlib\n- Seaborn\n- Scikit-learn\n- TensorFlow\n- Keras\n- PyTorch\n- Statsmodels\n- SciPy"
          },
          "metadata": {}
        }
      ],
      "execution_count": 15
    },
    {
      "cell_type": "code",
      "source": "from IPython.display import display, Markdown\ndata_science_tools = [\n    {\"Tool\": \"Jupyter Notebook\", \"Description\": \"An open-source web application for creating and sharing documents that contain live code, equations, visualizations, and narrative text.\"},\n    {\"Tool\": \"RStudio\", \"Description\": \"An integrated development environment for R, which is popular for statistical computing and graphics.\"},\n    {\"Tool\": \"Apache Spark\", \"Description\": \"An open-source unified analytics engine for large-scale data processing.\"},\n    {\"Tool\": \"Tableau\", \"Description\": \"A powerful data visualization tool used for converting raw data into an understandable format.\"},\n    {\"Tool\": \"Power BI\", \"Description\": \"A business analytics tool by Microsoft that provides interactive visualizations and business intelligence capabilities.\"},\n    {\"Tool\": \"Anaconda\", \"Description\": \"A distribution of Python and R for scientific computing and data science.\"},\n    {\"Tool\": \"RapidMiner\", \"Description\": \"A data science platform that provides an environment for machine learning, deep learning, text mining, and predictive analytics.\"},\n    {\"Tool\": \"KNIME\", \"Description\": \"An open-source data analytics, reporting, and integration platform.\"}\n]\ntable_header = \"| Tool | Description |\\n|------|-------------|\\n\"\ntable_rows = \"\\n\".join(f\"| {tool['Tool']} | {tool['Description']} |\" for tool in data_science_tools)\ntable_markdown = \"# Data Science Tools\\n\\n\" + table_header + table_rows\ndisplay(Markdown(table_markdown))",
      "metadata": {
        "trusted": true
      },
      "outputs": [
        {
          "output_type": "display_data",
          "data": {
            "text/plain": "<IPython.core.display.Markdown object>",
            "text/markdown": "# Data Science Tools\n\n| Tool | Description |\n|------|-------------|\n| Jupyter Notebook | An open-source web application for creating and sharing documents that contain live code, equations, visualizations, and narrative text. |\n| RStudio | An integrated development environment for R, which is popular for statistical computing and graphics. |\n| Apache Spark | An open-source unified analytics engine for large-scale data processing. |\n| Tableau | A powerful data visualization tool used for converting raw data into an understandable format. |\n| Power BI | A business analytics tool by Microsoft that provides interactive visualizations and business intelligence capabilities. |\n| Anaconda | A distribution of Python and R for scientific computing and data science. |\n| RapidMiner | A data science platform that provides an environment for machine learning, deep learning, text mining, and predictive analytics. |\n| KNIME | An open-source data analytics, reporting, and integration platform. |"
          },
          "metadata": {}
        }
      ],
      "execution_count": 5
    },
    {
      "cell_type": "code",
      "source": "from IPython.display import display, Markdown\narithmetic_intro = \"\"\"\n\nBelow are a few examples of evaluating arithmetic expressions in Python:\n\nAddition: `a + b`\nSubtraction: `a - b`\nMultiplication:`a * b`\nDivision: `a / b`\nExponentiation: `a ** b` \n\n\n1. Addition:\n   `5 + 3 = 8`\n\n2. Subtraction:\n   `10 - 4 = 6`\n\n3.Multiplication:\n   `7 * 6 = 42`\n\n4. Division:  \n   `20 / 4 = 5`\n\n5. Exponentiation: \n   `2 ** 3 = 8`\n\"\"\"\ndisplay(Markdown(arithmetic_intro))",
      "metadata": {
        "trusted": true
      },
      "outputs": [
        {
          "output_type": "display_data",
          "data": {
            "text/plain": "<IPython.core.display.Markdown object>",
            "text/markdown": "\n\nBelow are a few examples of evaluating arithmetic expressions in Python:\n\nAddition: `a + b`\nSubtraction: `a - b`\nMultiplication:`a * b`\nDivision: `a / b`\nExponentiation: `a ** b` \n\n\n1. Addition:\n   `5 + 3 = 8`\n\n2. Subtraction:\n   `10 - 4 = 6`\n\n3.Multiplication:\n   `7 * 6 = 42`\n\n4. Division:  \n   `20 / 4 = 5`\n\n5. Exponentiation: \n   `2 ** 3 = 8`\n"
          },
          "metadata": {}
        }
      ],
      "execution_count": 16
    },
    {
      "cell_type": "code",
      "source": "a = 3\nb = 4\nc = 5\nmultiplication = a * b\naddition = multiplication + c\nprint(f\"The result of (3 * 4) + 5 is: {addition}\")",
      "metadata": {
        "trusted": true
      },
      "outputs": [
        {
          "name": "stdout",
          "text": "The result of (3 * 4) + 5 is: 17\n",
          "output_type": "stream"
        }
      ],
      "execution_count": 18
    },
    {
      "cell_type": "code",
      "source": "def convert_minutes_to_hours(minutes):\n    hours = minutes / 60\n    return hours\nminutes = 200\nhours = convert_minutes_to_hours(minutes)\nprint(f\"{minutes} minutes is equal to {hours} hours.\")",
      "metadata": {
        "trusted": true
      },
      "outputs": [
        {
          "name": "stdout",
          "text": "200 minutes is equal to 3.3333333333333335 hours.\n",
          "output_type": "stream"
        }
      ],
      "execution_count": 19
    },
    {
      "cell_type": "code",
      "source": "from IPython.display import display, Markdown\nobjectives_list = [\n    \"Familiarize with Jupyter Notebook Interface: Understand the layout and features of Jupyter\",\n    \"Learn Basic Python Syntax: Practice fundamental programming concepts and syntax in Python.\",\n    \"Utilize Markdown for Documentation: Use Markdown cells for clear documentation and explanations.\",\n    \"Implement Data Analysis Techniques: Apply data manipulation and analysis techniques using libraries like Pandas and NumPy\",\n    \"Visualize Data: Create visualizations using Matplotlib and Seaborn to interpret data effectively.\"\n]\nobjectives_markdown = \"# Objectives\\n\\n\" + \"\\n\".join(f\"- {objective}\" for objective in objectives_list)\ndisplay(Markdown(objectives_markdown))",
      "metadata": {
        "trusted": true
      },
      "outputs": [
        {
          "output_type": "display_data",
          "data": {
            "text/plain": "<IPython.core.display.Markdown object>",
            "text/markdown": "# Objectives\n\n- Familiarize with Jupyter Notebook Interface: Understand the layout and features of Jupyter\n- Learn Basic Python Syntax: Practice fundamental programming concepts and syntax in Python.\n- Utilize Markdown for Documentation: Use Markdown cells for clear documentation and explanations.\n- Implement Data Analysis Techniques: Apply data manipulation and analysis techniques using libraries like Pandas and NumPy\n- Visualize Data: Create visualizations using Matplotlib and Seaborn to interpret data effectively."
          },
          "metadata": {}
        }
      ],
      "execution_count": 20
    },
    {
      "cell_type": "code",
      "source": " from IPython.display import display, Markdown\nauthor_details = {\n    \"Name\": \"Suchitha R\"\n}\nauthor_markdown = f\"\"\"\n\nName: {author_details['Name']}  \n\"\"\"\ndisplay(Markdown(author_markdown))",
      "metadata": {
        "trusted": true
      },
      "outputs": [
        {
          "output_type": "display_data",
          "data": {
            "text/plain": "<IPython.core.display.Markdown object>",
            "text/markdown": "\n\nName: Suchitha R  \n"
          },
          "metadata": {}
        }
      ],
      "execution_count": 21
    },
    {
      "cell_type": "code",
      "source": "",
      "metadata": {
        "trusted": true
      },
      "outputs": [],
      "execution_count": null
    }
  ]
}